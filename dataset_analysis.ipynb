{
 "cells": [
  {
   "cell_type": "code",
   "execution_count": null,
   "metadata": {},
   "outputs": [],
   "source": [
    "import librosa\n",
    "import librosa.display\n",
    "import matplotlib.pyplot as plt\n",
    "import numpy as np\n",
    "from pathlib import Path\n",
    "from utils.dataset import SpectrogramDataset\n",
    "\n",
    "# Load the dataset\n",
    "metadata_path = Path('e:/PWr/deepfakes/datasets/track1_2-train/Track1.2/train/spect/metadata.pt')\n",
    "dataset = SpectrogramDataset(metadata_path)\n",
    "\n",
    "# Analyze the dataset\n",
    "all_spectrograms = []\n",
    "for i in range(len(dataset)):\n",
    "  data = dataset[i]\n",
    "  spec = data[0]\n",
    "  all_spectrograms.append(spec.numpy())\n",
    "\n",
    "all_spectrograms = np.array(all_spectrograms)\n",
    "mean_spectrogram = np.mean(all_spectrograms)\n",
    "variance_spectrogram = np.var(all_spectrograms)\n",
    "\n",
    "print(f\"Mean of the spectrograms in the dataset: {mean_spectrogram}\")\n",
    "print(f\"Variance of the spectrograms in the dataset: {variance_spectrogram}\")\n",
    "\n",
    "# Plot a spectrogram from the dataset\n",
    "spec, label = dataset[0]\n",
    "epsilon = 1e-10\n",
    "S_db = 10 * np.log10(spec.numpy() + epsilon)\n",
    "\n",
    "plt.figure(figsize=(10, 6))\n",
    "librosa.display.specshow(S_db, sr=22050, x_axis='time', y_axis='mel')\n",
    "plt.colorbar(format='%+2.0f dB')\n",
    "plt.title('Spectrogram from Dataset')\n",
    "plt.show()"
   ]
  },
  {
   "cell_type": "code",
   "execution_count": null,
   "metadata": {
    "vscode": {
     "languageId": "r"
    }
   },
   "outputs": [
    {
     "name": "stdout",
     "output_type": "stream",
     "text": [
      "Number of unique labels in the dataset: 2\n",
      "Labels in the dataset: {0, 1}\n",
      "Number of samples in the dataset: 27084\n",
      "Number of samples for each label in the dataset:\n",
      "{0: 24072, 1: 3012}\n"
     ]
    },
    {
     "data": {
      "image/png": "[encoded data removed]",
      "text/plain": [
       "<Figure size 1000x600 with 1 Axes>"
      ]
     },
     "metadata": {},
     "output_type": "display_data"
    },
    {
     "name": "stdout",
     "output_type": "stream",
     "text": [
      "Minimum audio length: 80\n",
      "Maximum audio length: 80\n",
      "Average audio length: 80.0\n",
      "Median audio length: 80.0\n"
     ]
    }
   ],
   "source": [
    "import seaborn as sns\n",
    "import matplotlib.pyplot as plt\n",
    "import librosa\n",
    "\n",
    "labels = dataset.labels\n",
    "print(f\"Number of unique labels in the dataset: {len(set(labels))}\")\n",
    "print(f\"Labels in the dataset: {set(labels)}\")\n",
    "print(f\"Number of samples in the dataset: {len(labels)}\")\n",
    "print(f\"Number of samples for each label in the dataset:\")\n",
    "print({label: labels.count(label) for label in set(labels)})\n",
    "\n",
    "sns.set_theme(style='darkgrid')\n",
    "# Plot histogram of labels\n",
    "plt.figure(figsize=(10, 6))\n",
    "sns.histplot(labels, bins=2, color='blue', discrete=True)\n",
    "plt.title('Histogram of Labels')\n",
    "plt.xlabel('Label')\n",
    "plt.ylabel('Count')\n",
    "plt.xticks([0, 1])\n",
    "plt.show()\n",
    "\n",
    "# Histogram of audio lengths\n",
    "file_paths = dataset.file_paths\n",
    "audio_lengths = []\n",
    "for i, audio_path in enumerate(file_paths):\n",
    "    audio_length = librosa.get_duration(path=str(audio_path))\n",
    "    audio_lengths.append(audio_length)\n",
    "\n",
    "plt.figure(figsize=(10, 6))\n",
    "sns.histplot(audio_lengths, bins=20, color='blue', discrete=True)\n",
    "plt.title('Histogram of Audio Lengths')\n",
    "plt.xlabel('Audio Length (seconds)')\n",
    "plt.ylabel('Count')\n",
    "plt.show()\n",
    "\n"
   ]
  }
 ],
 "metadata": {
  "kernelspec": {
   "display_name": "Python 3",
   "language": "python",
   "name": "python3"
  },
  "language_info": {
   "codemirror_mode": {
    "name": "ipython",
    "version": 3
   },
   "file_extension": ".py",
   "mimetype": "text/x-python",
   "name": "python",
   "nbconvert_exporter": "python",
   "pygments_lexer": "ipython3",
   "version": "3.8.19"
  }
 },
 "nbformat": 4,
 "nbformat_minor": 2
}
